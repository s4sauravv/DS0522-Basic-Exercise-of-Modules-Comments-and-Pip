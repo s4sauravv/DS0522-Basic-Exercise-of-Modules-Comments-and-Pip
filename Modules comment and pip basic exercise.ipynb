{
 "cells": [
  {
   "cell_type": "code",
   "execution_count": 2,
   "id": "31f18f07",
   "metadata": {},
   "outputs": [],
   "source": [
    "#Hey,,\n",
    "#There are some Exercise from Basic Python.\n",
    "#We are solving in chapters .\n",
    "#Chapter 1= Modules, Comments and Pip\n",
    "#Practice Set\n"
   ]
  },
  {
   "cell_type": "code",
   "execution_count": 5,
   "id": "610da989",
   "metadata": {},
   "outputs": [
    {
     "name": "stdout",
     "output_type": "stream",
     "text": [
      "Twinkle, twinkle, little star,\n",
      "      How I wonder what you are!\n",
      "    Up above the world so high,\n",
      "    Like a diamond in the sky.\n",
      "    \n"
     ]
    }
   ],
   "source": [
    "# 1= Write a program to print twinkle-twinkle litter star in python.\n",
    "#Solution=\n",
    "\n",
    "print('''Twinkle, twinkle, little star,\n",
    "      How I wonder what you are!\n",
    "    Up above the world so high,\n",
    "    Like a diamond in the sky.\n",
    "    ''')"
   ]
  },
  {
   "cell_type": "code",
   "execution_count": 6,
   "id": "6e26151f",
   "metadata": {},
   "outputs": [],
   "source": [
    "#Explaination= We use the three sinle quote for print a poem..\n",
    "#when we print more than one line we have to use three quote for print fucntion ."
   ]
  },
  {
   "cell_type": "code",
   "execution_count": null,
   "id": "c0bea097",
   "metadata": {},
   "outputs": [],
   "source": []
  },
  {
   "cell_type": "code",
   "execution_count": 9,
   "id": "6192adac",
   "metadata": {},
   "outputs": [
    {
     "data": {
      "text/plain": [
       "5"
      ]
     },
     "execution_count": 9,
     "metadata": {},
     "output_type": "execute_result"
    }
   ],
   "source": [
    "#2=Use REPL and print the 5 table of using it.\n",
    "#REPL=Read evaluate print loop\n",
    "\n",
    "#solutin=\n",
    "5*1"
   ]
  },
  {
   "cell_type": "code",
   "execution_count": 10,
   "id": "9ced0d59",
   "metadata": {},
   "outputs": [
    {
     "data": {
      "text/plain": [
       "10"
      ]
     },
     "execution_count": 10,
     "metadata": {},
     "output_type": "execute_result"
    }
   ],
   "source": [
    "5*2\n"
   ]
  },
  {
   "cell_type": "code",
   "execution_count": 11,
   "id": "7bbae1e5",
   "metadata": {},
   "outputs": [
    {
     "data": {
      "text/plain": [
       "15"
      ]
     },
     "execution_count": 11,
     "metadata": {},
     "output_type": "execute_result"
    }
   ],
   "source": [
    "5*3\n"
   ]
  },
  {
   "cell_type": "code",
   "execution_count": 12,
   "id": "83ee957a",
   "metadata": {},
   "outputs": [
    {
     "data": {
      "text/plain": [
       "20"
      ]
     },
     "execution_count": 12,
     "metadata": {},
     "output_type": "execute_result"
    }
   ],
   "source": [
    "5*4\n"
   ]
  },
  {
   "cell_type": "code",
   "execution_count": 14,
   "id": "b1feebd2",
   "metadata": {},
   "outputs": [
    {
     "data": {
      "text/plain": [
       "25"
      ]
     },
     "execution_count": 14,
     "metadata": {},
     "output_type": "execute_result"
    }
   ],
   "source": [
    "5*5\n"
   ]
  },
  {
   "cell_type": "code",
   "execution_count": 15,
   "id": "79d9f199",
   "metadata": {},
   "outputs": [
    {
     "data": {
      "text/plain": [
       "30"
      ]
     },
     "execution_count": 15,
     "metadata": {},
     "output_type": "execute_result"
    }
   ],
   "source": [
    "5*6\n"
   ]
  },
  {
   "cell_type": "code",
   "execution_count": 16,
   "id": "ac436784",
   "metadata": {},
   "outputs": [
    {
     "data": {
      "text/plain": [
       "35"
      ]
     },
     "execution_count": 16,
     "metadata": {},
     "output_type": "execute_result"
    }
   ],
   "source": [
    "5*7\n"
   ]
  },
  {
   "cell_type": "code",
   "execution_count": 17,
   "id": "501ec5f3",
   "metadata": {},
   "outputs": [
    {
     "data": {
      "text/plain": [
       "40"
      ]
     },
     "execution_count": 17,
     "metadata": {},
     "output_type": "execute_result"
    }
   ],
   "source": [
    "5*8\n"
   ]
  },
  {
   "cell_type": "code",
   "execution_count": 19,
   "id": "263ae1ee",
   "metadata": {},
   "outputs": [
    {
     "data": {
      "text/plain": [
       "45"
      ]
     },
     "execution_count": 19,
     "metadata": {},
     "output_type": "execute_result"
    }
   ],
   "source": [
    "5*9\n"
   ]
  },
  {
   "cell_type": "code",
   "execution_count": 21,
   "id": "776eea12",
   "metadata": {},
   "outputs": [
    {
     "data": {
      "text/plain": [
       "50"
      ]
     },
     "execution_count": 21,
     "metadata": {},
     "output_type": "execute_result"
    }
   ],
   "source": [
    "5*10\n",
    "\n",
    "#but question we have to REPL."
   ]
  },
  {
   "cell_type": "code",
   "execution_count": 22,
   "id": "327a25c3",
   "metadata": {},
   "outputs": [
    {
     "name": "stdout",
     "output_type": "stream",
     "text": [
      "Requirement already satisfied: jedi==0.17.2 in c:\\users\\shriv\\anaconda3\\lib\\site-packages (0.17.2)\n",
      "Requirement already satisfied: parso<0.8.0,>=0.7.0 in c:\\users\\shriv\\anaconda3\\lib\\site-packages (from jedi==0.17.2) (0.7.1)\n"
     ]
    }
   ],
   "source": [
    "# 3= Install and externam module and use it to peform an operations of you intrest.\n",
    "#solution\n",
    "\n",
    "!pip3 install jedi==0.17.2"
   ]
  },
  {
   "cell_type": "code",
   "execution_count": null,
   "id": "e3901e77",
   "metadata": {},
   "outputs": [],
   "source": [
    "#Student of DataTrained - Saurav\n",
    "#Basic Exercise"
   ]
  },
  {
   "cell_type": "code",
   "execution_count": null,
   "id": "e8757f6d",
   "metadata": {},
   "outputs": [],
   "source": []
  }
 ],
 "metadata": {
  "kernelspec": {
   "display_name": "Python 3 (ipykernel)",
   "language": "python",
   "name": "python3"
  },
  "language_info": {
   "codemirror_mode": {
    "name": "ipython",
    "version": 3
   },
   "file_extension": ".py",
   "mimetype": "text/x-python",
   "name": "python",
   "nbconvert_exporter": "python",
   "pygments_lexer": "ipython3",
   "version": "3.9.12"
  }
 },
 "nbformat": 4,
 "nbformat_minor": 5
}
